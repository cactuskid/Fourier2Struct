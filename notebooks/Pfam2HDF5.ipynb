{
 "cells": [
  {
   "cell_type": "code",
   "execution_count": 11,
   "metadata": {},
   "outputs": [],
   "source": [
    "import h5py\n",
    "from Bio import SeqIO, AlignIO\n",
    "import io\n",
    "import numpy as np\n",
    "\n",
    "pfam_path = '/home/cactuskid13/struct_data/pfam/Pfam-A.full'\n",
    "import gzip\n",
    "\n",
    "def yield_alns(pfam_path , verbose = False):    \n",
    "    skip = False\n",
    "    with open(pfam_path, 'rb') as f:\n",
    "        aln= ''\n",
    "        acc = None\n",
    "        for i,l in enumerate( f ):\n",
    "            if verbose == True:\n",
    "                if i < 1000:\n",
    "                    print(l)\n",
    "            aln+=l.decode()\n",
    "            if acc is None and 'AC' in l.decode():\n",
    "                acc = l.decode().split()[2]     #temporary solution: skipping the file causing a problem (index 4226)\n",
    "                if acc == 'PF00823':\n",
    "                    skip = True\n",
    "            if l == b'//\\n':\n",
    "                if skip:\n",
    "                    skip = False\n",
    "                else:\n",
    "                    yield acc, AlignIO.read(io.StringIO(aln), \"stockholm\")\n",
    "                aln = ''\n",
    "                acc = None\n"
   ]
  },
  {
   "cell_type": "code",
   "execution_count": 15,
   "metadata": {},
   "outputs": [
    {
     "name": "stderr",
     "output_type": "stream",
     "text": [
      "/home/osboxes/miniconda3/envs/structML/lib/python3.7/site-packages/ipykernel_launcher.py:6: DeprecationWarning: Converting `np.character` to a dtype is deprecated. The current result is `np.dtype(np.str_)` which is not strictly correct. Note that `np.character` is generally deprecated and 'S1' should be used.\n",
      "  \n"
     ]
    }
   ],
   "source": [
    "with h5py.File('Pfam-A.full' +'.h5', 'w') as hf:\n",
    "    i = 0\n",
    "    for pfam_id, msa in yield_alns(pfam_path):\n",
    "        i += 1\n",
    "        #print(i)\n",
    "        align_array = np.array([ list(rec.upper()) for rec in msa], np.character)\n",
    "        hf.create_dataset(pfam_id,  data=align_array)\n",
    "    "
   ]
  },
  {
   "cell_type": "code",
   "execution_count": null,
   "metadata": {},
   "outputs": [],
   "source": []
  }
 ],
 "metadata": {
  "kernelspec": {
   "display_name": "Python 3",
   "language": "python",
   "name": "python3"
  },
  "language_info": {
   "codemirror_mode": {
    "name": "ipython",
    "version": 3
   },
   "file_extension": ".py",
   "mimetype": "text/x-python",
   "name": "python",
   "nbconvert_exporter": "python",
   "pygments_lexer": "ipython3",
   "version": "3.7.5"
  }
 },
 "nbformat": 4,
 "nbformat_minor": 4
}
