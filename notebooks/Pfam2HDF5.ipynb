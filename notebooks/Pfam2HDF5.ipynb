{
 "cells": [
  {
   "cell_type": "code",
   "execution_count": 1,
   "metadata": {},
   "outputs": [],
   "source": [
    "import h5py\n",
    "from Bio import SeqIO, AlignIO\n",
    "import io\n",
    "import numpy as np\n",
    "import os\n",
    "\n",
    "pfam_path = '/home/cactuskid13/struct_data/pfam/Pfam-A.full'\n",
    "import gzip\n",
    "\n",
    "def yield_alns(pfam_path , verbose = False):    \n",
    "    with open(pfam_path, 'r', encoding='ISO-8859-1') as f:\n",
    "        aln= ''\n",
    "        acc = None\n",
    "        count =0\n",
    "        lCount = 0\n",
    "        for i,l in enumerate( f ):\n",
    "            lCount += 1\n",
    "            if verbose == True:\n",
    "                if i > 3000 and i < 4000:\n",
    "                    print(l)\n",
    "            \n",
    "            if lCount < 10**6:\n",
    "                aln+=l\n",
    "            \n",
    "            if acc is None and 'AC' in l:\n",
    "                acc = l.split()[2] \n",
    "            \n",
    "            if l == '//\\n':\n",
    "                if lCount > 10**6:\n",
    "                    print(acc + 'truncated')\n",
    "                if count < 8063 or count > 8065:\n",
    "                    msa = AlignIO.read(io.StringIO(aln), \"stockholm\")\n",
    "                else:\n",
    "                    print('skipping')\n",
    "                    msa = None\n",
    "                idPfam = acc\n",
    "                acc = None\n",
    "                aln = ''\n",
    "                lCount = 0\n",
    "                yield idPfam, msa\n",
    "                if count % 1000 == 0 :\n",
    "                    print(msa)\n",
    "                count+=1"
   ]
  },
  {
   "cell_type": "code",
   "execution_count": 22,
   "metadata": {},
   "outputs": [
    {
     "name": "stdout",
     "output_type": "stream",
     "text": [
      "1\n"
     ]
    },
    {
     "name": "stderr",
     "output_type": "stream",
     "text": [
      "/home/osboxes/miniconda3/envs/structML/lib/python3.7/site-packages/ipykernel_launcher.py:16: DeprecationWarning: Converting `np.character` to a dtype is deprecated. The current result is `np.dtype(np.str_)` which is not strictly correct. Note that `np.character` is generally deprecated and 'S1' should be used.\n",
      "  app.launch_new_instance()\n"
     ]
    },
    {
     "name": "stdout",
     "output_type": "stream",
     "text": [
      "here  [[b'-' b'-' b'-' ... b'-' b'-' b'-']\n",
      " [b'-' b'-' b'-' ... b'-' b'-' b'-']\n",
      " [b'-' b'-' b'-' ... b'-' b'-' b'-']\n",
      " ...\n",
      " [b'-' b'-' b'-' ... b'-' b'-' b'-']\n",
      " [b'-' b'-' b'-' ... b'-' b'-' b'-']\n",
      " [b'-' b'-' b'-' ... b'-' b'-' b'-']] (9587, 120)\n",
      "Alignment with 9587 rows and 120 columns\n",
      "------------ALQFHEEH--GE--VCPAQW--HK--------...--- A0A1I4YJU4_9ENTR/160-195\n",
      "------------AFQFTDKH--GE--VCPAGW--KP--------...--- F6R8L2_ORNAN/163-198\n",
      "------------ALQYVASH-pGE--VCPAKW--KE--------...--- A0A2S6MVG1_9RHIZ/154-186\n",
      "------------ALQRSADG--QA--YTPADW--QP--------...--- A0A2A2JWD4_9BILA/164-196\n",
      "-----------a-AQYVAAH-pGE--VCPAKW--TE--------...--- W0UZH3_9BURK/154-186\n",
      "------------AFQYVREH-aGE--ACPAGW--TP--------...--- F8A8Q3_THEID/158-196\n",
      "---------ayt---HVQVK--GE--VCPANW--EE--------...--- A0A0A2M5Q4_9FLAO/176-211\n",
      "------------AFQFVETH--GE--VCPASW--TP--------...--- A0A3B3TJV1_9TELE/211-246\n",
      "------------SLQLTDNY--SV--ATPADW--KD--------...--- K9WY66_9NOST/156-196\n",
      "------------ALQFHQEH--GE--VCPAGW--NK--------...--- A0A1H7TFI2_9GAMM/161-196\n",
      "------------AFQYTDKH--GE--VCPAGW--KP--------...--- A0A099Z6G4_TINGU/154-176\n",
      "------------ALQRSDEE-dGV--AVPADW---Pen------...--- A0A0P7G722_9EURY/166-210\n",
      "------------AFQFVEKH--GE--VCPANW--KE--------...--- K5VXP1_PHACS/159-194\n",
      "------------AFQFVEKH--GE--VCPANW--KP--------...--- A0A3S4RAV7_9ACAR/192-225\n",
      "------------AFQFTDEH--GE--VCPANW--KP--------...--- A0A1A9V9E3_GLOAU/157-191\n",
      "------------SLQLTDSH--SV--ATPGNW--KD--------...--- A0A1H2PTS3_9BURK/156-196\n",
      "------------AFQLVRES-kGA-nATPSGW--RP--------...--- A0A238YTZ7_9DELT/190-226\n",
      "---------alq-------A--GG--LCPANW--KP--------...--- A0A1I7FKM2_9BACL/159-179\n",
      "...\n",
      "------------AVQFFETN--GE--VCPAGW--QK--------...--- A0A3S0VBS3_9GAMM/161-196\n",
      "2\n",
      "here  [[b'-' b'-' b'-' ... b'-' b'-' b'-']\n",
      " [b'-' b'-' b'-' ... b'-' b'-' b'-']\n",
      " [b'-' b'-' b'-' ... b'-' b'-' b'-']\n",
      " [b'A' b'E' b'D' ... b'E' b'Q' b'E']\n",
      " [b'-' b'-' b'-' ... b'-' b'-' b'-']] (5, 300)\n",
      "3\n",
      "here  [[b'-' b'-' b'-' ... b'-' b'-' b'-']\n",
      " [b'-' b'-' b'-' ... b'-' b'-' b'-']\n",
      " [b'-' b'-' b'-' ... b'-' b'-' b'-']\n",
      " ...\n",
      " [b'-' b'-' b'-' ... b'-' b'-' b'-']\n",
      " [b'-' b'-' b'-' ... b'-' b'-' b'-']\n",
      " [b'-' b'-' b'-' ... b'-' b'-' b'-']] (39, 820)\n",
      "4\n",
      "here  [[b'-' b'-' b'-' ... b'-' b'-' b'-']\n",
      " [b'-' b'-' b'-' ... b'-' b'-' b'-']\n",
      " [b'-' b'-' b'-' ... b'-' b'-' b'-']\n",
      " ...\n",
      " [b'-' b'-' b'-' ... b'-' b'-' b'-']\n",
      " [b'-' b'-' b'-' ... b'-' b'-' b'-']\n",
      " [b'-' b'-' b'-' ... b'-' b'-' b'-']] (5856, 871)\n"
     ]
    }
   ],
   "source": [
    "if os.path.isfile('Pfam-A.full.h5'):\n",
    "    os.remove('Pfam-A.full.h5')\n",
    "open('Pfam-A.full.h5', 'a').close()\n",
    "\n",
    "with h5py.File('Pfam-A.full' +'.h5', 'r+') as hf:\n",
    "    i = 0\n",
    "    for pfam_id, msa in yield_alns(pfam_path):\n",
    "        i += 1\n",
    "        print(i)\n",
    "        if not hf.get(pfam_id):\n",
    "            try:\n",
    "                align_list = list()\n",
    "                for rec in msa:\n",
    "                    align_list.append(np.array(list(rec.upper()), np.character))\n",
    "                try:\n",
    "                    align_array = np.array(align_list)\n",
    "                    hf.create_dataset(pfam_id,  data=align_array)\n",
    "                except:\n",
    "                    print('exception')\n",
    "            except:\n",
    "                print('for loop exception')\n",
    "        else:\n",
    "            print(pfam_id)"
   ]
  },
  {
   "cell_type": "code",
   "execution_count": null,
   "metadata": {},
   "outputs": [],
   "source": [
    "101, 104, 160, 173, 177, 181"
   ]
  }
 ],
 "metadata": {
  "kernelspec": {
   "display_name": "Python 3",
   "language": "python",
   "name": "python3"
  },
  "language_info": {
   "codemirror_mode": {
    "name": "ipython",
    "version": 3
   },
   "file_extension": ".py",
   "mimetype": "text/x-python",
   "name": "python",
   "nbconvert_exporter": "python",
   "pygments_lexer": "ipython3",
   "version": "3.7.5"
  }
 },
 "nbformat": 4,
 "nbformat_minor": 4
}
