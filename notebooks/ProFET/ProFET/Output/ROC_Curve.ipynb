{
 "metadata": {
  "name": ""
 },
 "nbformat": 3,
 "nbformat_minor": 0,
 "worksheets": [
  {
   "cells": [
    {
     "cell_type": "code",
     "collapsed": false,
     "input": [
      "import numpy as np\n",
      "import pandas as pd\n",
      "import cPickle\n",
      "import os\n",
      "\n",
      "import matplotlib as mpl\n",
      "import matplotlib.pyplot as plt\n",
      "import seaborn as sns\n",
      "\n",
      "from time import time\n",
      "from operator import itemgetter\n",
      "from scipy.stats import randint as sp_randint\n",
      "\n",
      "from sklearn.ensemble import RandomForestClassifier\n",
      "from sklearn.metrics import classification_report, roc_curve, auc, precision_recall_curve\n",
      "from sklearn.externals import joblib\n",
      "from sklearn.cross_validation import train_test_split\n",
      "from sklearn.grid_search import RandomizedSearchCV\n",
      "from sklearn.feature_selection import SelectKBest\n",
      "\n",
      "from scipy.stats import sem\n",
      "\n",
      "pd.set_option('display.mpl_style', 'default') \n",
      "pd.set_option('display.width', 5000) \n",
      "pd.set_option('display.max_columns', 60) \n",
      "\n",
      "# Font face used to match plots to blog.\n",
      "font = {'family' : 'Droid Sans',\n",
      "        'weight' : 'normal',\n",
      "        'size': 10}\n",
      "\n",
      "mpl.rc('font', **font)"
     ],
     "language": "python",
     "metadata": {},
     "outputs": [],
     "prompt_number": 1
    },
    {
     "cell_type": "code",
     "collapsed": false,
     "input": [
      "def bootstrap_resample(X, n = None):\n",
      "    \"\"\" Bootstrap resample an array_like\n",
      "    Parameters\n",
      "    ----------\n",
      "    X : array_like\n",
      "      data to resample\n",
      "    n : int, optional\n",
      "      length of resampled array, equal to len(X) if n==None\n",
      "    Results\n",
      "    -------\n",
      "    returns X_resamples\n",
      "    Source: http://nbviewer.ipython.org/gist/aflaxman/6871948\n",
      "    \"\"\"\n",
      "    if n == None:\n",
      "        n = len(X)\n",
      "        \n",
      "    resample_i = np.floor(np.random.rand(n)*len(X)).astype(int)\n",
      "    X_resample = X[resample_i]\n",
      "    return X_resample"
     ],
     "language": "python",
     "metadata": {},
     "outputs": [],
     "prompt_number": 2
    },
    {
     "cell_type": "code",
     "collapsed": false,
     "input": [
      "def evaluate_model(model, features, target, test_features, test_target):\n",
      "    print 'Training set score: ', model.score(features, target)\n",
      "    print 'Test set score: ', model.score(test_features, test_target)\n",
      "    preds = model.predict(test_features)\n",
      "    print classification_report(np.array(test_target), preds)\n",
      "    print 'Confusion matrix: '\n",
      "    print pd.crosstab(test_target, preds, rownames=[\"Actual\"], colnames=[\"Predicted\"])"
     ],
     "language": "python",
     "metadata": {},
     "outputs": [],
     "prompt_number": 3
    },
    {
     "cell_type": "code",
     "collapsed": false,
     "input": [
      "%run ../load_pbp_data.py\n",
      "# Loads the following dataframes:\n",
      "# df        : training data from 2001-2012\n",
      "# test_df   : testing data, 2013 until week 12\n",
      "# games_df  : final scores, locations, and lines from 2000-2012"
     ],
     "language": "python",
     "metadata": {},
     "outputs": [],
     "prompt_number": 4
    },
    {
     "cell_type": "code",
     "collapsed": false,
     "input": [
      "features = df[['qtr', 'sec_adj', 'sec_adj_sqrt', 'dwn', 'ytg', 'yfog', 'scorediff', 'sprv', 'ou']]\n",
      "target = df['teamwin']"
     ],
     "language": "python",
     "metadata": {},
     "outputs": [],
     "prompt_number": 5
    },
    {
     "cell_type": "code",
     "collapsed": false,
     "input": [
      "test_features = test_df[['qtr', 'sec_adj', 'sec_adj_sqrt', 'dwn', 'ytg', 'yfog', 'scorediff', 'sprv', 'ou']]\n",
      "test_target = test_df['teamwin']"
     ],
     "language": "python",
     "metadata": {},
     "outputs": [],
     "prompt_number": 7
    },
    {
     "cell_type": "code",
     "collapsed": false,
     "input": [
      "def report(grid_scores, n_top=3):\n",
      "    top_scores = sorted(grid_scores, key=itemgetter(1), reverse=True)[:n_top]\n",
      "    for i, score in enumerate(top_scores):\n",
      "        print(\"Model with rank: {0}\".format(i + 1))\n",
      "        print(\"Mean validation score: {0:.3f} (std: {1:.3f})\".format(\n",
      "              score.mean_validation_score,\n",
      "              np.std(score.cv_validation_scores)))\n",
      "        print(\"Parameters: {0}\".format(score.parameters))\n",
      "        print(\"\")"
     ],
     "language": "python",
     "metadata": {},
     "outputs": [],
     "prompt_number": 8
    },
    {
     "cell_type": "code",
     "collapsed": false,
     "input": [
      "test_df.describe()"
     ],
     "language": "python",
     "metadata": {},
     "outputs": [
      {
       "html": [
        "<div style=\"max-height:1000px;max-width:1500px;overflow:auto;\">\n",
        "<table border=\"1\" class=\"dataframe\">\n",
        "  <thead>\n",
        "    <tr style=\"text-align: right;\">\n",
        "      <th></th>\n",
        "      <th>qtr</th>\n",
        "      <th>min</th>\n",
        "      <th>sec</th>\n",
        "      <th>yfog</th>\n",
        "      <th>dwn</th>\n",
        "      <th>ytg</th>\n",
        "      <th>scorediff</th>\n",
        "      <th>teamwin</th>\n",
        "      <th>sec_adj</th>\n",
        "      <th>sec_adj_sqrt</th>\n",
        "      <th>sprv</th>\n",
        "      <th>ou</th>\n",
        "    </tr>\n",
        "  </thead>\n",
        "  <tbody>\n",
        "    <tr>\n",
        "      <th>count</th>\n",
        "      <td> 16015.000000</td>\n",
        "      <td> 16015.000000</td>\n",
        "      <td> 16015.000000</td>\n",
        "      <td> 16015.000000</td>\n",
        "      <td> 16015.000000</td>\n",
        "      <td> 16015.000000</td>\n",
        "      <td> 16015.000000</td>\n",
        "      <td> 16015.000000</td>\n",
        "      <td> 16015.000000</td>\n",
        "      <td> 16015.000000</td>\n",
        "      <td> 16015.000000</td>\n",
        "      <td> 16015.000000</td>\n",
        "    </tr>\n",
        "    <tr>\n",
        "      <th>mean</th>\n",
        "      <td>     2.547736</td>\n",
        "      <td>    28.474243</td>\n",
        "      <td>    28.534998</td>\n",
        "      <td>    46.872682</td>\n",
        "      <td>     2.011926</td>\n",
        "      <td>     8.577833</td>\n",
        "      <td>    -1.502279</td>\n",
        "      <td>     0.497534</td>\n",
        "      <td>  1736.989572</td>\n",
        "      <td>     0.034837</td>\n",
        "      <td>    -0.055136</td>\n",
        "      <td>    45.063534</td>\n",
        "    </tr>\n",
        "    <tr>\n",
        "      <th>std</th>\n",
        "      <td>     1.114951</td>\n",
        "      <td>    17.435902</td>\n",
        "      <td>    17.706617</td>\n",
        "      <td>    25.006895</td>\n",
        "      <td>     1.012064</td>\n",
        "      <td>     4.093365</td>\n",
        "      <td>    10.842382</td>\n",
        "      <td>     0.500010</td>\n",
        "      <td>  1046.115938</td>\n",
        "      <td>     0.036797</td>\n",
        "      <td>     6.628594</td>\n",
        "      <td>     4.688905</td>\n",
        "    </tr>\n",
        "    <tr>\n",
        "      <th>min</th>\n",
        "      <td>     1.000000</td>\n",
        "      <td>     0.000000</td>\n",
        "      <td>     0.000000</td>\n",
        "      <td>     0.000000</td>\n",
        "      <td>     1.000000</td>\n",
        "      <td>     1.000000</td>\n",
        "      <td>   -40.000000</td>\n",
        "      <td>     0.000000</td>\n",
        "      <td>     0.000000</td>\n",
        "      <td>     0.016664</td>\n",
        "      <td>   -26.500000</td>\n",
        "      <td>    38.500000</td>\n",
        "    </tr>\n",
        "    <tr>\n",
        "      <th>25%</th>\n",
        "      <td>     2.000000</td>\n",
        "      <td>    13.000000</td>\n",
        "      <td>    13.000000</td>\n",
        "      <td>    25.000000</td>\n",
        "      <td>     1.000000</td>\n",
        "      <td>     6.000000</td>\n",
        "      <td>    -7.000000</td>\n",
        "      <td>     0.000000</td>\n",
        "      <td>   839.000000</td>\n",
        "      <td>     0.019499</td>\n",
        "      <td>    -3.500000</td>\n",
        "      <td>    41.500000</td>\n",
        "    </tr>\n",
        "    <tr>\n",
        "      <th>50%</th>\n",
        "      <td>     3.000000</td>\n",
        "      <td>    29.000000</td>\n",
        "      <td>    28.000000</td>\n",
        "      <td>    43.000000</td>\n",
        "      <td>     2.000000</td>\n",
        "      <td>    10.000000</td>\n",
        "      <td>     0.000000</td>\n",
        "      <td>     0.000000</td>\n",
        "      <td>  1796.000000</td>\n",
        "      <td>     0.023590</td>\n",
        "      <td>    -1.000000</td>\n",
        "      <td>    43.500000</td>\n",
        "    </tr>\n",
        "    <tr>\n",
        "      <th>75%</th>\n",
        "      <td>     4.000000</td>\n",
        "      <td>    43.000000</td>\n",
        "      <td>    44.000000</td>\n",
        "      <td>    66.000000</td>\n",
        "      <td>     3.000000</td>\n",
        "      <td>    10.000000</td>\n",
        "      <td>     4.000000</td>\n",
        "      <td>     1.000000</td>\n",
        "      <td>  2629.000000</td>\n",
        "      <td>     0.034503</td>\n",
        "      <td>     3.500000</td>\n",
        "      <td>    47.500000</td>\n",
        "    </tr>\n",
        "    <tr>\n",
        "      <th>max</th>\n",
        "      <td>     4.000000</td>\n",
        "      <td>    60.000000</td>\n",
        "      <td>    59.000000</td>\n",
        "      <td>    99.000000</td>\n",
        "      <td>     4.000000</td>\n",
        "      <td>    40.000000</td>\n",
        "      <td>    40.000000</td>\n",
        "      <td>     1.000000</td>\n",
        "      <td>  3600.000000</td>\n",
        "      <td>     1.000000</td>\n",
        "      <td>    26.500000</td>\n",
        "      <td>    59.000000</td>\n",
        "    </tr>\n",
        "  </tbody>\n",
        "</table>\n",
        "</div>"
       ],
       "metadata": {},
       "output_type": "pyout",
       "prompt_number": 9,
       "text": [
        "                qtr           min           sec          yfog           dwn           ytg     scorediff       teamwin       sec_adj  sec_adj_sqrt          sprv            ou\n",
        "count  16015.000000  16015.000000  16015.000000  16015.000000  16015.000000  16015.000000  16015.000000  16015.000000  16015.000000  16015.000000  16015.000000  16015.000000\n",
        "mean       2.547736     28.474243     28.534998     46.872682      2.011926      8.577833     -1.502279      0.497534   1736.989572      0.034837     -0.055136     45.063534\n",
        "std        1.114951     17.435902     17.706617     25.006895      1.012064      4.093365     10.842382      0.500010   1046.115938      0.036797      6.628594      4.688905\n",
        "min        1.000000      0.000000      0.000000      0.000000      1.000000      1.000000    -40.000000      0.000000      0.000000      0.016664    -26.500000     38.500000\n",
        "25%        2.000000     13.000000     13.000000     25.000000      1.000000      6.000000     -7.000000      0.000000    839.000000      0.019499     -3.500000     41.500000\n",
        "50%        3.000000     29.000000     28.000000     43.000000      2.000000     10.000000      0.000000      0.000000   1796.000000      0.023590     -1.000000     43.500000\n",
        "75%        4.000000     43.000000     44.000000     66.000000      3.000000     10.000000      4.000000      1.000000   2629.000000      0.034503      3.500000     47.500000\n",
        "max        4.000000     60.000000     59.000000     99.000000      4.000000     40.000000     40.000000      1.000000   3600.000000      1.000000     26.500000     59.000000"
       ]
      }
     ],
     "prompt_number": 9
    },
    {
     "cell_type": "code",
     "collapsed": false,
     "input": [
      "df.describe()"
     ],
     "language": "python",
     "metadata": {},
     "outputs": [
      {
       "html": [
        "<div style=\"max-height:1000px;max-width:1500px;overflow:auto;\">\n",
        "<table border=\"1\" class=\"dataframe\">\n",
        "  <thead>\n",
        "    <tr style=\"text-align: right;\">\n",
        "      <th></th>\n",
        "      <th>gid</th>\n",
        "      <th>pid</th>\n",
        "      <th>dseq</th>\n",
        "      <th>len</th>\n",
        "      <th>qtr</th>\n",
        "      <th>min</th>\n",
        "      <th>sec</th>\n",
        "      <th>ptso</th>\n",
        "      <th>ptsd</th>\n",
        "      <th>timo</th>\n",
        "      <th>timd</th>\n",
        "      <th>dwn</th>\n",
        "      <th>ytg</th>\n",
        "      <th>yfog</th>\n",
        "      <th>sec_adj</th>\n",
        "      <th>sprv</th>\n",
        "      <th>ou</th>\n",
        "      <th>teamwin</th>\n",
        "      <th>scorediff</th>\n",
        "      <th>sec_adj_sqrt</th>\n",
        "    </tr>\n",
        "  </thead>\n",
        "  <tbody>\n",
        "    <tr>\n",
        "      <th>count</th>\n",
        "      <td> 423382.000000</td>\n",
        "      <td> 423382.000000</td>\n",
        "      <td> 423382.000000</td>\n",
        "      <td> 423382.000000</td>\n",
        "      <td> 423382.000000</td>\n",
        "      <td> 423382.000000</td>\n",
        "      <td> 423382.000000</td>\n",
        "      <td> 423382.000000</td>\n",
        "      <td> 423382.000000</td>\n",
        "      <td> 423382.000000</td>\n",
        "      <td> 423382.000000</td>\n",
        "      <td> 423382.000000</td>\n",
        "      <td> 423382.000000</td>\n",
        "      <td> 423382.000000</td>\n",
        "      <td> 423382.000000</td>\n",
        "      <td> 423382.000000</td>\n",
        "      <td> 423382.000000</td>\n",
        "      <td> 423382.000000</td>\n",
        "      <td> 423382.000000</td>\n",
        "      <td> 423382.000000</td>\n",
        "    </tr>\n",
        "    <tr>\n",
        "      <th>mean</th>\n",
        "      <td>   1855.613826</td>\n",
        "      <td> 301489.893510</td>\n",
        "      <td>      3.926046</td>\n",
        "      <td>     25.143598</td>\n",
        "      <td>      2.542385</td>\n",
        "      <td>      6.704080</td>\n",
        "      <td>     28.705004</td>\n",
        "      <td>      9.772397</td>\n",
        "      <td>     10.845239</td>\n",
        "      <td>      2.528350</td>\n",
        "      <td>      2.548427</td>\n",
        "      <td>      2.009129</td>\n",
        "      <td>      8.552579</td>\n",
        "      <td>     48.402863</td>\n",
        "      <td>   1742.803430</td>\n",
        "      <td>     -0.159676</td>\n",
        "      <td>     41.895050</td>\n",
        "      <td>      0.511330</td>\n",
        "      <td>     -1.072842</td>\n",
        "      <td>      0.034971</td>\n",
        "    </tr>\n",
        "    <tr>\n",
        "      <th>std</th>\n",
        "      <td>    924.700148</td>\n",
        "      <td> 150055.526669</td>\n",
        "      <td>      3.050087</td>\n",
        "      <td>     15.297450</td>\n",
        "      <td>      1.116238</td>\n",
        "      <td>      4.519903</td>\n",
        "      <td>     17.715871</td>\n",
        "      <td>      9.335284</td>\n",
        "      <td>      9.879615</td>\n",
        "      <td>      0.772197</td>\n",
        "      <td>      0.743238</td>\n",
        "      <td>      1.010768</td>\n",
        "      <td>      4.081503</td>\n",
        "      <td>     24.320703</td>\n",
        "      <td>   1046.837083</td>\n",
        "      <td>      6.382091</td>\n",
        "      <td>      4.645987</td>\n",
        "      <td>      0.499872</td>\n",
        "      <td>     10.827652</td>\n",
        "      <td>      0.037232</td>\n",
        "    </tr>\n",
        "    <tr>\n",
        "      <th>min</th>\n",
        "      <td>    260.000000</td>\n",
        "      <td>  42247.000000</td>\n",
        "      <td>      0.000000</td>\n",
        "      <td>      0.000000</td>\n",
        "      <td>      1.000000</td>\n",
        "      <td>      0.000000</td>\n",
        "      <td>      0.000000</td>\n",
        "      <td>      0.000000</td>\n",
        "      <td>      0.000000</td>\n",
        "      <td>      0.000000</td>\n",
        "      <td>      0.000000</td>\n",
        "      <td>      1.000000</td>\n",
        "      <td>      1.000000</td>\n",
        "      <td>      1.000000</td>\n",
        "      <td>      0.000000</td>\n",
        "      <td>    -24.000000</td>\n",
        "      <td>     30.500000</td>\n",
        "      <td>      0.000000</td>\n",
        "      <td>    -59.000000</td>\n",
        "      <td>      0.016664</td>\n",
        "    </tr>\n",
        "    <tr>\n",
        "      <th>25%</th>\n",
        "      <td>   1058.000000</td>\n",
        "      <td> 172410.250000</td>\n",
        "      <td>      2.000000</td>\n",
        "      <td>      8.000000</td>\n",
        "      <td>      2.000000</td>\n",
        "      <td>      3.000000</td>\n",
        "      <td>     13.000000</td>\n",
        "      <td>      0.000000</td>\n",
        "      <td>      3.000000</td>\n",
        "      <td>      2.000000</td>\n",
        "      <td>      2.000000</td>\n",
        "      <td>      1.000000</td>\n",
        "      <td>      6.000000</td>\n",
        "      <td>     29.000000</td>\n",
        "      <td>    842.000000</td>\n",
        "      <td>     -4.500000</td>\n",
        "      <td>     38.000000</td>\n",
        "      <td>      0.000000</td>\n",
        "      <td>     -7.000000</td>\n",
        "      <td>      0.019485</td>\n",
        "    </tr>\n",
        "    <tr>\n",
        "      <th>50%</th>\n",
        "      <td>   1861.000000</td>\n",
        "      <td> 302524.500000</td>\n",
        "      <td>      3.000000</td>\n",
        "      <td>     30.000000</td>\n",
        "      <td>      3.000000</td>\n",
        "      <td>      7.000000</td>\n",
        "      <td>     28.000000</td>\n",
        "      <td>      7.000000</td>\n",
        "      <td>      9.000000</td>\n",
        "      <td>      3.000000</td>\n",
        "      <td>      3.000000</td>\n",
        "      <td>      2.000000</td>\n",
        "      <td>     10.000000</td>\n",
        "      <td>     45.000000</td>\n",
        "      <td>   1800.000000</td>\n",
        "      <td>     -1.000000</td>\n",
        "      <td>     42.000000</td>\n",
        "      <td>      1.000000</td>\n",
        "      <td>      0.000000</td>\n",
        "      <td>      0.023564</td>\n",
        "    </tr>\n",
        "    <tr>\n",
        "      <th>75%</th>\n",
        "      <td>   2665.000000</td>\n",
        "      <td> 431996.750000</td>\n",
        "      <td>      6.000000</td>\n",
        "      <td>     39.000000</td>\n",
        "      <td>      4.000000</td>\n",
        "      <td>     11.000000</td>\n",
        "      <td>     44.000000</td>\n",
        "      <td>     14.000000</td>\n",
        "      <td>     17.000000</td>\n",
        "      <td>      3.000000</td>\n",
        "      <td>      3.000000</td>\n",
        "      <td>      3.000000</td>\n",
        "      <td>     10.000000</td>\n",
        "      <td>     67.000000</td>\n",
        "      <td>   2633.000000</td>\n",
        "      <td>      4.000000</td>\n",
        "      <td>     45.000000</td>\n",
        "      <td>      1.000000</td>\n",
        "      <td>      4.000000</td>\n",
        "      <td>      0.034442</td>\n",
        "    </tr>\n",
        "    <tr>\n",
        "      <th>max</th>\n",
        "      <td>   3444.000000</td>\n",
        "      <td> 560712.000000</td>\n",
        "      <td>     24.000000</td>\n",
        "      <td>     98.000000</td>\n",
        "      <td>      4.000000</td>\n",
        "      <td>     15.000000</td>\n",
        "      <td>     59.000000</td>\n",
        "      <td>     62.000000</td>\n",
        "      <td>     62.000000</td>\n",
        "      <td>      3.000000</td>\n",
        "      <td>      3.000000</td>\n",
        "      <td>      4.000000</td>\n",
        "      <td>     50.000000</td>\n",
        "      <td>     99.000000</td>\n",
        "      <td>   3600.000000</td>\n",
        "      <td>     24.000000</td>\n",
        "      <td>     59.000000</td>\n",
        "      <td>      1.000000</td>\n",
        "      <td>     59.000000</td>\n",
        "      <td>      1.000000</td>\n",
        "    </tr>\n",
        "  </tbody>\n",
        "</table>\n",
        "</div>"
       ],
       "metadata": {},
       "output_type": "pyout",
       "prompt_number": 10,
       "text": [
        "                 gid            pid           dseq            len            qtr            min            sec           ptso           ptsd           timo           timd            dwn            ytg           yfog        sec_adj           sprv             ou        teamwin      scorediff   sec_adj_sqrt\n",
        "count  423382.000000  423382.000000  423382.000000  423382.000000  423382.000000  423382.000000  423382.000000  423382.000000  423382.000000  423382.000000  423382.000000  423382.000000  423382.000000  423382.000000  423382.000000  423382.000000  423382.000000  423382.000000  423382.000000  423382.000000\n",
        "mean     1855.613826  301489.893510       3.926046      25.143598       2.542385       6.704080      28.705004       9.772397      10.845239       2.528350       2.548427       2.009129       8.552579      48.402863    1742.803430      -0.159676      41.895050       0.511330      -1.072842       0.034971\n",
        "std       924.700148  150055.526669       3.050087      15.297450       1.116238       4.519903      17.715871       9.335284       9.879615       0.772197       0.743238       1.010768       4.081503      24.320703    1046.837083       6.382091       4.645987       0.499872      10.827652       0.037232\n",
        "min       260.000000   42247.000000       0.000000       0.000000       1.000000       0.000000       0.000000       0.000000       0.000000       0.000000       0.000000       1.000000       1.000000       1.000000       0.000000     -24.000000      30.500000       0.000000     -59.000000       0.016664\n",
        "25%      1058.000000  172410.250000       2.000000       8.000000       2.000000       3.000000      13.000000       0.000000       3.000000       2.000000       2.000000       1.000000       6.000000      29.000000     842.000000      -4.500000      38.000000       0.000000      -7.000000       0.019485\n",
        "50%      1861.000000  302524.500000       3.000000      30.000000       3.000000       7.000000      28.000000       7.000000       9.000000       3.000000       3.000000       2.000000      10.000000      45.000000    1800.000000      -1.000000      42.000000       1.000000       0.000000       0.023564\n",
        "75%      2665.000000  431996.750000       6.000000      39.000000       4.000000      11.000000      44.000000      14.000000      17.000000       3.000000       3.000000       3.000000      10.000000      67.000000    2633.000000       4.000000      45.000000       1.000000       4.000000       0.034442\n",
        "max      3444.000000  560712.000000      24.000000      98.000000       4.000000      15.000000      59.000000      62.000000      62.000000       3.000000       3.000000       4.000000      50.000000      99.000000    3600.000000      24.000000      59.000000       1.000000      59.000000       1.000000"
       ]
      }
     ],
     "prompt_number": 10
    },
    {
     "cell_type": "code",
     "collapsed": false,
     "input": [
      "param_dist = {\"n_estimators\": sp_randint(50, 200),\n",
      "              \"max_depth\": [3, 4, 5],\n",
      "              \"max_features\": sp_randint(1, 9),\n",
      "              \"min_samples_split\": sp_randint(10, 100),\n",
      "              \"min_samples_leaf\": sp_randint(10, 100),\n",
      "              \"bootstrap\": [True, False],\n",
      "              \"criterion\": [\"gini\", \"entropy\"]}"
     ],
     "language": "python",
     "metadata": {},
     "outputs": [],
     "prompt_number": 52
    },
    {
     "cell_type": "code",
     "collapsed": false,
     "input": [
      "clf = RandomForestClassifier()"
     ],
     "language": "python",
     "metadata": {},
     "outputs": [],
     "prompt_number": 11
    },
    {
     "cell_type": "code",
     "collapsed": false,
     "input": [
      "# WARNING: this will take several hours to run on a regular computer.\n",
      "n_iter_search = 20\n",
      "random_search = RandomizedSearchCV(clf, param_distributions=param_dist,\n",
      "                                   n_iter=n_iter_search)\n",
      "start = time()\n",
      "random_search.fit(features, target)\n",
      "print(\"RandomizedSearchCV took %.2f seconds for %d candidates\"\n",
      "      \" parameter settings.\" % ((time() - start), n_iter_search))\n",
      "report(random_search.grid_scores_)"
     ],
     "language": "python",
     "metadata": {},
     "outputs": [],
     "prompt_number": "*"
    },
    {
     "cell_type": "code",
     "collapsed": false,
     "input": [],
     "language": "python",
     "metadata": {},
     "outputs": []
    },
    {
     "cell_type": "code",
     "collapsed": false,
     "input": [
      "# Use this simplified version if you just want to explore a classifier.\n",
      "model_rf = RandomForestClassifier(oob_score = True, criterion = 'entropy', \n",
      "                                          max_features = 3, n_estimators = 30, min_samples_leaf = 50, \n",
      "                                          random_state = 1)"
     ],
     "language": "python",
     "metadata": {},
     "outputs": [],
     "prompt_number": 12
    },
    {
     "cell_type": "code",
     "collapsed": false,
     "input": [
      "model_rf.fit(features, target)"
     ],
     "language": "python",
     "metadata": {},
     "outputs": [
      {
       "metadata": {},
       "output_type": "pyout",
       "prompt_number": 13,
       "text": [
        "RandomForestClassifier(bootstrap=True, compute_importances=None,\n",
        "            criterion='entropy', max_depth=None, max_features=3,\n",
        "            min_density=None, min_samples_leaf=50, min_samples_split=2,\n",
        "            n_estimators=30, n_jobs=1, oob_score=True, random_state=1,\n",
        "            verbose=0)"
       ]
      }
     ],
     "prompt_number": 13
    },
    {
     "cell_type": "code",
     "collapsed": false,
     "input": [
      "model_rf.score(features, target)"
     ],
     "language": "python",
     "metadata": {},
     "outputs": [
      {
       "metadata": {},
       "output_type": "pyout",
       "prompt_number": 14,
       "text": [
        "0.81310022627320011"
       ]
      }
     ],
     "prompt_number": 14
    },
    {
     "cell_type": "code",
     "collapsed": false,
     "input": [
      "model_rf.score(test_features, test_target)"
     ],
     "language": "python",
     "metadata": {},
     "outputs": [
      {
       "metadata": {},
       "output_type": "pyout",
       "prompt_number": 15,
       "text": [
        "0.64939119575398063"
       ]
      }
     ],
     "prompt_number": 15
    },
    {
     "cell_type": "code",
     "collapsed": false,
     "input": [
      "from sklearn.decomposition import PCA\n",
      "from sklearn.preprocessing import scale\n",
      "pca = PCA(n_components=1)"
     ],
     "language": "python",
     "metadata": {},
     "outputs": [],
     "prompt_number": 25
    },
    {
     "cell_type": "code",
     "collapsed": false,
     "input": [
      "new_features = pca.fit_transform(scale(features))\n",
      "new_test_features = pca.transform(scale(test_features))"
     ],
     "language": "python",
     "metadata": {},
     "outputs": [],
     "prompt_number": 26
    },
    {
     "cell_type": "code",
     "collapsed": false,
     "input": [
      "# Use this simplified version if you just want to explore a classifier.\n",
      "model_rf = RandomForestClassifier(oob_score = True, criterion = 'entropy', \n",
      "                                          max_features = None, n_estimators = 30, min_samples_leaf = 50, \n",
      "                                          random_state = 1)\n",
      "model_rf.fit(new_features, target)"
     ],
     "language": "python",
     "metadata": {},
     "outputs": [
      {
       "metadata": {},
       "output_type": "pyout",
       "prompt_number": 27,
       "text": [
        "RandomForestClassifier(bootstrap=True, compute_importances=None,\n",
        "            criterion='entropy', max_depth=None, max_features=None,\n",
        "            min_density=None, min_samples_leaf=50, min_samples_split=2,\n",
        "            n_estimators=30, n_jobs=1, oob_score=True, random_state=1,\n",
        "            verbose=0)"
       ]
      }
     ],
     "prompt_number": 27
    },
    {
     "cell_type": "code",
     "collapsed": false,
     "input": [
      "evaluate_model(model_rf, new_features, target, new_test_features, test_target)"
     ],
     "language": "python",
     "metadata": {},
     "outputs": [
      {
       "output_type": "stream",
       "stream": "stdout",
       "text": [
        "Training set score:  "
       ]
      },
      {
       "output_type": "stream",
       "stream": "stdout",
       "text": [
        "0.604510820016\n",
        "Test set score:  "
       ]
      },
      {
       "output_type": "stream",
       "stream": "stdout",
       "text": [
        "0.527880112395\n",
        "             precision    recall  f1-score   support\n",
        "\n",
        "          0       0.53      0.47      0.50      8047\n",
        "          1       0.52      0.58      0.55      7968\n",
        "\n",
        "avg / total       0.53      0.53      0.53     16015\n"
       ]
      },
      {
       "output_type": "stream",
       "stream": "stdout",
       "text": [
        "\n",
        "Confusion matrix: \n",
        "Predicted     0     1\n",
        "Actual               \n",
        "0          3794  4253\n",
        "1          3308  4660\n"
       ]
      }
     ],
     "prompt_number": 28
    },
    {
     "cell_type": "code",
     "collapsed": false,
     "input": [
      "evaluate_model(model_rf, features, target, test_features, test_target)"
     ],
     "language": "python",
     "metadata": {},
     "outputs": [
      {
       "output_type": "stream",
       "stream": "stdout",
       "text": [
        "Training set score:  "
       ]
      },
      {
       "output_type": "stream",
       "stream": "stdout",
       "text": [
        "0.813100226273\n",
        "Test set score:  "
       ]
      },
      {
       "output_type": "stream",
       "stream": "stdout",
       "text": [
        "0.649391195754\n",
        "             precision    recall  f1-score   support\n",
        "\n",
        "          0       0.65      0.65      0.65      8047\n",
        "          1       0.65      0.65      0.65      7968\n",
        "\n",
        "avg / total       0.65      0.65      0.65     16015\n"
       ]
      },
      {
       "output_type": "stream",
       "stream": "stdout",
       "text": [
        "\n",
        "Confusion matrix: \n",
        "Predicted     0     1\n",
        "Actual               \n",
        "0          5247  2800\n",
        "1          2815  5153"
       ]
      },
      {
       "output_type": "stream",
       "stream": "stdout",
       "text": [
        "\n"
       ]
      }
     ],
     "prompt_number": 47
    },
    {
     "cell_type": "code",
     "collapsed": false,
     "input": [
      "full_probs = model_rf.predict_proba(test_features)\n",
      "\n",
      "# Compute ROC curve and area the curve\n",
      "fpr_full, tpr_full, thresholds_full = roc_curve(test_target, full_probs[:, 1])"
     ],
     "language": "python",
     "metadata": {},
     "outputs": [],
     "prompt_number": 49
    },
    {
     "cell_type": "code",
     "collapsed": false,
     "input": [
      "roc_auc_full = auc(fpr_full, tpr_full)\n",
      "\n",
      "print(\"Area under the full random forest ROC curve : %f\" % roc_auc_full)"
     ],
     "language": "python",
     "metadata": {},
     "outputs": [
      {
       "output_type": "stream",
       "stream": "stdout",
       "text": [
        "Area under the full random forest ROC curve : 0.707607\n"
       ]
      }
     ],
     "prompt_number": 50
    },
    {
     "cell_type": "code",
     "collapsed": false,
     "input": [
      "%matplotlib qt\n",
      "plt.figure(figsize=(16, 8))\n",
      "plt.plot(fpr_full, tpr_full, label='Full random forest ROC curve (area = %0.2f)' % roc_auc_full)\n",
      "# plt.plot(fpr_gbm, tpr_gbm, label='GBM ROC curve (area = %0.2f)' % roc_auc_gbm)\n",
      "plt.plot([0, 1], [0, 1], 'k--')\n",
      "plt.xlim([0.0, 1.0])\n",
      "plt.ylim([0.0, 1.0])\n",
      "plt.xlabel('False Positive Rate')\n",
      "plt.ylabel('True Positive Rate')\n",
      "plt.title('Receiver operating characteristic curve')\n",
      "plt.legend(loc=\"lower right\")\n",
      "plt.show()"
     ],
     "language": "python",
     "metadata": {},
     "outputs": [],
     "prompt_number": 51
    },
    {
     "cell_type": "code",
     "collapsed": false,
     "input": [
      "train_performance_by_minute = pd.DataFrame(index = range(60), columns = ['rf_full'])\n",
      "test_performance_by_minute = pd.DataFrame(index = range(60), columns = ['rf_full'])"
     ],
     "language": "python",
     "metadata": {},
     "outputs": [],
     "prompt_number": 66
    },
    {
     "cell_type": "code",
     "collapsed": false,
     "input": [
      "seconds = 3600\n",
      "index = 0\n",
      "\n",
      "while seconds > 0:\n",
      "    train_min_features = df[(df['sec_adj'] > seconds - 100) & (df['sec_adj'] <= seconds)][['qtr', 'sec_adj', 'sec_adj_sqrt', 'dwn', 'ytg', 'yfog', 'scorediff', 'sprv', 'ou']]\n",
      "    test_min_features = test_df[(test_df['sec_adj'] > seconds - 100) & (test_df['sec_adj'] <= seconds)][['qtr', 'sec_adj', 'sec_adj_sqrt', 'dwn', 'ytg', 'yfog', 'scorediff', 'sprv', 'ou']]\n",
      "    \n",
      "    target_min = df[(df['sec_adj'] > seconds - 100) & (df['sec_adj'] <= seconds)]['teamwin']\n",
      "    test_target_min = test_df[(test_df['sec_adj'] > seconds - 100) & (test_df['sec_adj'] <= seconds)]['teamwin']\n",
      "    \n",
      "    train_performance_by_minute.ix[index, 'rf_full'] = model_rf.score(train_min_features, target_min)\n",
      "    test_performance_by_minute.ix[index, 'rf_full'] = model_rf.score(test_min_features, test_target_min)\n",
      "\n",
      "    \n",
      "    seconds -= 60\n",
      "    index += 1"
     ],
     "language": "python",
     "metadata": {},
     "outputs": [],
     "prompt_number": 67
    },
    {
     "cell_type": "code",
     "collapsed": false,
     "input": [
      "performance = pd.concat([train_performance_by_minute, test_performance_by_minute], axis = 1)\n",
      "performance.columns = ['rf_full_train', 'rf_full_test']"
     ],
     "language": "python",
     "metadata": {},
     "outputs": [],
     "prompt_number": 68
    },
    {
     "cell_type": "code",
     "collapsed": false,
     "input": [
      "%matplotlib qt\n",
      "plt.figure(figsize=(16, 8))\n",
      "plt.plot(performance['rf_full_train'], label='RF (full) training')\n",
      "plt.plot(performance['rf_full_test'], label='RF (full) test')\n",
      "plt.xlim([0.0, 59.0])\n",
      "plt.ylim([0.0, 1.0])\n",
      "plt.ylabel('Accuracy')\n",
      "plt.title('Accuracy of models by minutes elapsed')\n",
      "plt.xlabel('Minutes elapsed')\n",
      "plt.legend(loc=\"lower right\")\n",
      "plt.show()"
     ],
     "language": "python",
     "metadata": {},
     "outputs": [],
     "prompt_number": 69
    }
   ],
   "metadata": {}
  }
 ]
}